{
 "cells": [
  {
   "cell_type": "code",
   "execution_count": 1,
   "metadata": {},
   "outputs": [
    {
     "output_type": "stream",
     "name": "stdout",
     "text": [
      "Requirement already satisfied: odsclient[full] in c:\\users\\pmiguere\\.conda\\envs\\machine_learning\\lib\\site-packages (0.8.3)\n",
      "Requirement already satisfied: requests in c:\\users\\pmiguere\\.conda\\envs\\machine_learning\\lib\\site-packages (from odsclient[full]) (2.23.0)\n",
      "Requirement already satisfied: keyring; extra == \"full\" in c:\\users\\pmiguere\\.conda\\envs\\machine_learning\\lib\\site-packages (from odsclient[full]) (23.0.1)\n",
      "Requirement already satisfied: click; extra == \"full\" in c:\\users\\pmiguere\\.conda\\envs\\machine_learning\\lib\\site-packages (from odsclient[full]) (7.1.2)\n",
      "Requirement already satisfied: tqdm; extra == \"full\" in c:\\users\\pmiguere\\.conda\\envs\\machine_learning\\lib\\site-packages (from odsclient[full]) (4.45.0)\n",
      "Requirement already satisfied: certifi>=2017.4.17 in c:\\users\\pmiguere\\.conda\\envs\\machine_learning\\lib\\site-packages (from requests->odsclient[full]) (2020.4.5.1)\n",
      "Requirement already satisfied: urllib3!=1.25.0,!=1.25.1,<1.26,>=1.21.1 in c:\\users\\pmiguere\\.conda\\envs\\machine_learning\\lib\\site-packages (from requests->odsclient[full]) (1.25.9)\n",
      "Requirement already satisfied: chardet<4,>=3.0.2 in c:\\users\\pmiguere\\.conda\\envs\\machine_learning\\lib\\site-packages (from requests->odsclient[full]) (3.0.4)\n",
      "Requirement already satisfied: idna<3,>=2.5 in c:\\users\\pmiguere\\.conda\\envs\\machine_learning\\lib\\site-packages (from requests->odsclient[full]) (2.9)\n",
      "Requirement already satisfied: pywin32-ctypes!=0.1.0,!=0.1.1; sys_platform == \"win32\" in c:\\users\\pmiguere\\.conda\\envs\\machine_learning\\lib\\site-packages (from keyring; extra == \"full\"->odsclient[full]) (0.2.0)\n",
      "Requirement already satisfied: importlib-metadata>=3.6 in c:\\users\\pmiguere\\.conda\\envs\\machine_learning\\lib\\site-packages (from keyring; extra == \"full\"->odsclient[full]) (4.0.0)\n",
      "Requirement already satisfied: zipp>=0.5 in c:\\users\\pmiguere\\.conda\\envs\\machine_learning\\lib\\site-packages (from importlib-metadata>=3.6->keyring; extra == \"full\"->odsclient[full]) (3.4.1)\n"
     ]
    }
   ],
   "source": [
    "!pip install odsclient[full]"
   ]
  },
  {
   "cell_type": "code",
   "execution_count": 2,
   "metadata": {},
   "outputs": [
    {
     "output_type": "stream",
     "name": "stdout",
     "text": [
      "Requirement already satisfied: pandas_profiling in c:\\users\\pmiguere\\.conda\\envs\\machine_learning\\lib\\site-packages (2.6.0)\n",
      "Requirement already satisfied: astropy>=4.0 in c:\\users\\pmiguere\\.conda\\envs\\machine_learning\\lib\\site-packages (from pandas_profiling) (4.0.1.post1)\n",
      "Requirement already satisfied: pandas>=0.25.3 in c:\\users\\pmiguere\\.conda\\envs\\machine_learning\\lib\\site-packages (from pandas_profiling) (1.0.3)\n",
      "Requirement already satisfied: scipy>=1.4.1 in c:\\users\\pmiguere\\.conda\\envs\\machine_learning\\lib\\site-packages (from pandas_profiling) (1.4.1)\n",
      "Requirement already satisfied: statsmodels>=0.11.1 in c:\\users\\pmiguere\\.conda\\envs\\machine_learning\\lib\\site-packages (from pandas_profiling) (0.11.1)\n",
      "Requirement already satisfied: matplotlib>=3.2.0 in c:\\users\\pmiguere\\.conda\\envs\\machine_learning\\lib\\site-packages (from pandas_profiling) (3.2.1)\n",
      "Requirement already satisfied: numpy>=1.16.0 in c:\\users\\pmiguere\\.conda\\envs\\machine_learning\\lib\\site-packages (from pandas_profiling) (1.18.1)\n",
      "Requirement already satisfied: htmlmin>=0.1.12 in c:\\users\\pmiguere\\.conda\\envs\\machine_learning\\lib\\site-packages (from pandas_profiling) (0.1.12)\n",
      "Requirement already satisfied: requests>=2.23.0 in c:\\users\\pmiguere\\.conda\\envs\\machine_learning\\lib\\site-packages (from pandas_profiling) (2.23.0)\n",
      "Requirement already satisfied: tangled-up-in-unicode>=0.0.4 in c:\\users\\pmiguere\\.conda\\envs\\machine_learning\\lib\\site-packages (from pandas_profiling) (0.0.4)\n",
      "Requirement already satisfied: jinja2>=2.11.1 in c:\\users\\pmiguere\\.conda\\envs\\machine_learning\\lib\\site-packages (from pandas_profiling) (2.11.2)\n",
      "Requirement already satisfied: confuse>=1.0.0 in c:\\users\\pmiguere\\.conda\\envs\\machine_learning\\lib\\site-packages (from pandas_profiling) (1.1.0)\n",
      "Requirement already satisfied: visions[type_image_path]>=0.4.1 in c:\\users\\pmiguere\\.conda\\envs\\machine_learning\\lib\\site-packages (from pandas_profiling) (0.4.1)\n",
      "Requirement already satisfied: tqdm>=4.43.0 in c:\\users\\pmiguere\\.conda\\envs\\machine_learning\\lib\\site-packages (from pandas_profiling) (4.45.0)\n",
      "Requirement already satisfied: missingno>=0.4.2 in c:\\users\\pmiguere\\.conda\\envs\\machine_learning\\lib\\site-packages (from pandas_profiling) (0.4.2)\n",
      "Requirement already satisfied: phik>=0.9.10 in c:\\users\\pmiguere\\.conda\\envs\\machine_learning\\lib\\site-packages (from pandas_profiling) (0.9.11)\n",
      "Requirement already satisfied: ipywidgets>=7.5.1 in c:\\users\\pmiguere\\.conda\\envs\\machine_learning\\lib\\site-packages (from pandas_profiling) (7.5.1)\n",
      "Requirement already satisfied: pytz>=2017.2 in c:\\users\\pmiguere\\.conda\\envs\\machine_learning\\lib\\site-packages (from pandas>=0.25.3->pandas_profiling) (2019.3)\n",
      "Requirement already satisfied: python-dateutil>=2.6.1 in c:\\users\\pmiguere\\.conda\\envs\\machine_learning\\lib\\site-packages (from pandas>=0.25.3->pandas_profiling) (2.8.1)\n",
      "Requirement already satisfied: patsy>=0.5 in c:\\users\\pmiguere\\.conda\\envs\\machine_learning\\lib\\site-packages (from statsmodels>=0.11.1->pandas_profiling) (0.5.1)\n",
      "Requirement already satisfied: kiwisolver>=1.0.1 in c:\\users\\pmiguere\\.conda\\envs\\machine_learning\\lib\\site-packages (from matplotlib>=3.2.0->pandas_profiling) (1.2.0)\n",
      "Requirement already satisfied: cycler>=0.10 in c:\\users\\pmiguere\\.conda\\envs\\machine_learning\\lib\\site-packages (from matplotlib>=3.2.0->pandas_profiling) (0.10.0)\n",
      "Requirement already satisfied: pyparsing!=2.0.4,!=2.1.2,!=2.1.6,>=2.0.1 in c:\\users\\pmiguere\\.conda\\envs\\machine_learning\\lib\\site-packages (from matplotlib>=3.2.0->pandas_profiling) (2.4.7)\n",
      "Requirement already satisfied: idna<3,>=2.5 in c:\\users\\pmiguere\\.conda\\envs\\machine_learning\\lib\\site-packages (from requests>=2.23.0->pandas_profiling) (2.9)\n",
      "Requirement already satisfied: urllib3!=1.25.0,!=1.25.1,<1.26,>=1.21.1 in c:\\users\\pmiguere\\.conda\\envs\\machine_learning\\lib\\site-packages (from requests>=2.23.0->pandas_profiling) (1.25.9)\n",
      "Requirement already satisfied: chardet<4,>=3.0.2 in c:\\users\\pmiguere\\.conda\\envs\\machine_learning\\lib\\site-packages (from requests>=2.23.0->pandas_profiling) (3.0.4)\n",
      "Requirement already satisfied: certifi>=2017.4.17 in c:\\users\\pmiguere\\.conda\\envs\\machine_learning\\lib\\site-packages (from requests>=2.23.0->pandas_profiling) (2020.4.5.1)\n",
      "Requirement already satisfied: MarkupSafe>=0.23 in c:\\users\\pmiguere\\.conda\\envs\\machine_learning\\lib\\site-packages (from jinja2>=2.11.1->pandas_profiling) (1.1.1)\n",
      "Requirement already satisfied: pyyaml in c:\\users\\pmiguere\\.conda\\envs\\machine_learning\\lib\\site-packages (from confuse>=1.0.0->pandas_profiling) (5.3.1)\n",
      "Requirement already satisfied: attrs>=19.3.0 in c:\\users\\pmiguere\\.conda\\envs\\machine_learning\\lib\\site-packages (from visions[type_image_path]>=0.4.1->pandas_profiling) (19.3.0)\n",
      "Requirement already satisfied: networkx>=2.4 in c:\\users\\pmiguere\\.conda\\envs\\machine_learning\\lib\\site-packages (from visions[type_image_path]>=0.4.1->pandas_profiling) (2.4)\n",
      "Requirement already satisfied: imagehash; extra == \"type_image_path\" in c:\\users\\pmiguere\\.conda\\envs\\machine_learning\\lib\\site-packages (from visions[type_image_path]>=0.4.1->pandas_profiling) (4.0)\n",
      "Requirement already satisfied: Pillow; extra == \"type_image_path\" in c:\\users\\pmiguere\\.conda\\envs\\machine_learning\\lib\\site-packages (from visions[type_image_path]>=0.4.1->pandas_profiling) (7.1.2)\n",
      "Requirement already satisfied: seaborn in c:\\users\\pmiguere\\.conda\\envs\\machine_learning\\lib\\site-packages (from missingno>=0.4.2->pandas_profiling) (0.10.1)\n",
      "Requirement already satisfied: numba>=0.38.1 in c:\\users\\pmiguere\\.conda\\envs\\machine_learning\\lib\\site-packages (from phik>=0.9.10->pandas_profiling) (0.49.0)\n",
      "Requirement already satisfied: joblib>=0.14.1 in c:\\users\\pmiguere\\.conda\\envs\\machine_learning\\lib\\site-packages (from phik>=0.9.10->pandas_profiling) (0.14.1)\n",
      "Requirement already satisfied: traitlets>=4.3.1 in c:\\users\\pmiguere\\.conda\\envs\\machine_learning\\lib\\site-packages (from ipywidgets>=7.5.1->pandas_profiling) (4.3.3)\n",
      "Requirement already satisfied: ipykernel>=4.5.1 in c:\\users\\pmiguere\\.conda\\envs\\machine_learning\\lib\\site-packages (from ipywidgets>=7.5.1->pandas_profiling) (5.1.4)\n",
      "Requirement already satisfied: nbformat>=4.2.0 in c:\\users\\pmiguere\\.conda\\envs\\machine_learning\\lib\\site-packages (from ipywidgets>=7.5.1->pandas_profiling) (5.0.6)\n",
      "Requirement already satisfied: ipython>=4.0.0; python_version >= \"3.3\" in c:\\users\\pmiguere\\.conda\\envs\\machine_learning\\lib\\site-packages (from ipywidgets>=7.5.1->pandas_profiling) (7.13.0)\n",
      "Requirement already satisfied: widgetsnbextension~=3.5.0 in c:\\users\\pmiguere\\.conda\\envs\\machine_learning\\lib\\site-packages (from ipywidgets>=7.5.1->pandas_profiling) (3.5.1)\n",
      "Requirement already satisfied: six>=1.5 in c:\\users\\pmiguere\\.conda\\envs\\machine_learning\\lib\\site-packages (from python-dateutil>=2.6.1->pandas>=0.25.3->pandas_profiling) (1.14.0)\n"
     ]
    }
   ],
   "source": [
    "!pip install pandas_profiling"
   ]
  },
  {
   "cell_type": "code",
   "execution_count": 3,
   "metadata": {},
   "outputs": [
    {
     "output_type": "stream",
     "name": "stdout",
     "text": [
      "Requirement already satisfied: decorator>=4.3.0 in c:\\users\\pmiguere\\.conda\\envs\\machine_learning\\lib\\site-packages (from networkx>=2.4->visions[type_image_path]>=0.4.1->pandas_profiling) (4.4.2)\nRequirement already satisfied: pywavelets in c:\\users\\pmiguere\\.conda\\envs\\machine_learning\\lib\\site-packages (from imagehash; extra == \"type_image_path\"->visions[type_image_path]>=0.4.1->pandas_profiling) (1.1.1)\nRequirement already satisfied: llvmlite<=0.33.0.dev0,>=0.31.0.dev0 in c:\\users\\pmiguere\\.conda\\envs\\machine_learning\\lib\\site-packages (from numba>=0.38.1->phik>=0.9.10->pandas_profiling) (0.32.0)\nRequirement already satisfied: setuptools in c:\\users\\pmiguere\\.conda\\envs\\machine_learning\\lib\\site-packages (from numba>=0.38.1->phik>=0.9.10->pandas_profiling) (46.1.3.post20200330)\nRequirement already satisfied: ipython-genutils in c:\\users\\pmiguere\\.conda\\envs\\machine_learning\\lib\\site-packages (from traitlets>=4.3.1->ipywidgets>=7.5.1->pandas_profiling) (0.2.0)\nRequirement already satisfied: tornado>=4.2 in c:\\users\\pmiguere\\.conda\\envs\\machine_learning\\lib\\site-packages (from ipykernel>=4.5.1->ipywidgets>=7.5.1->pandas_profiling) (6.0.4)\nRequirement already satisfied: jupyter-client in c:\\users\\pmiguere\\.conda\\envs\\machine_learning\\lib\\site-packages (from ipykernel>=4.5.1->ipywidgets>=7.5.1->pandas_profiling) (6.1.2)\nRequirement already satisfied: jsonschema!=2.5.0,>=2.4 in c:\\users\\pmiguere\\.conda\\envs\\machine_learning\\lib\\site-packages (from nbformat>=4.2.0->ipywidgets>=7.5.1->pandas_profiling) (3.2.0)\nRequirement already satisfied: jupyter-core in c:\\users\\pmiguere\\.conda\\envs\\machine_learning\\lib\\site-packages (from nbformat>=4.2.0->ipywidgets>=7.5.1->pandas_profiling) (4.6.3)\nRequirement already satisfied: jedi>=0.10 in c:\\users\\pmiguere\\.conda\\envs\\machine_learning\\lib\\site-packages (from ipython>=4.0.0; python_version >= \"3.3\"->ipywidgets>=7.5.1->pandas_profiling) (0.16.0)\nRequirement already satisfied: pygments in c:\\users\\pmiguere\\.conda\\envs\\machine_learning\\lib\\site-packages (from ipython>=4.0.0; python_version >= \"3.3\"->ipywidgets>=7.5.1->pandas_profiling) (2.6.1)\nRequirement already satisfied: prompt-toolkit!=3.0.0,!=3.0.1,<3.1.0,>=2.0.0 in c:\\users\\pmiguere\\.conda\\envs\\machine_learning\\lib\\site-packages (from ipython>=4.0.0; python_version >= \"3.3\"->ipywidgets>=7.5.1->pandas_profiling) (3.0.4)\nRequirement already satisfied: backcall in c:\\users\\pmiguere\\.conda\\envs\\machine_learning\\lib\\site-packages (from ipython>=4.0.0; python_version >= \"3.3\"->ipywidgets>=7.5.1->pandas_profiling) (0.1.0)\nRequirement already satisfied: pickleshare in c:\\users\\pmiguere\\.conda\\envs\\machine_learning\\lib\\site-packages (from ipython>=4.0.0; python_version >= \"3.3\"->ipywidgets>=7.5.1->pandas_profiling) (0.7.5)\nRequirement already satisfied: colorama; sys_platform == \"win32\" in c:\\users\\pmiguere\\.conda\\envs\\machine_learning\\lib\\site-packages (from ipython>=4.0.0; python_version >= \"3.3\"->ipywidgets>=7.5.1->pandas_profiling) (0.4.3)\nRequirement already satisfied: notebook>=4.4.1 in c:\\users\\pmiguere\\.conda\\envs\\machine_learning\\lib\\site-packages (from widgetsnbextension~=3.5.0->ipywidgets>=7.5.1->pandas_profiling) (6.0.3)\nRequirement already satisfied: pyzmq>=13 in c:\\users\\pmiguere\\.conda\\envs\\machine_learning\\lib\\site-packages (from jupyter-client->ipykernel>=4.5.1->ipywidgets>=7.5.1->pandas_profiling) (18.1.1)\nRequirement already satisfied: pyrsistent>=0.14.0 in c:\\users\\pmiguere\\.conda\\envs\\machine_learning\\lib\\site-packages (from jsonschema!=2.5.0,>=2.4->nbformat>=4.2.0->ipywidgets>=7.5.1->pandas_profiling) (0.16.0)\nRequirement already satisfied: pywin32>=1.0; sys_platform == \"win32\" in c:\\users\\pmiguere\\.conda\\envs\\machine_learning\\lib\\site-packages (from jupyter-core->nbformat>=4.2.0->ipywidgets>=7.5.1->pandas_profiling) (227)\nRequirement already satisfied: parso>=0.5.2 in c:\\users\\pmiguere\\.conda\\envs\\machine_learning\\lib\\site-packages (from jedi>=0.10->ipython>=4.0.0; python_version >= \"3.3\"->ipywidgets>=7.5.1->pandas_profiling) (0.6.2)\nRequirement already satisfied: wcwidth in c:\\users\\pmiguere\\.conda\\envs\\machine_learning\\lib\\site-packages (from prompt-toolkit!=3.0.0,!=3.0.1,<3.1.0,>=2.0.0->ipython>=4.0.0; python_version >= \"3.3\"->ipywidgets>=7.5.1->pandas_profiling) (0.1.9)\nRequirement already satisfied: nbconvert in c:\\users\\pmiguere\\.conda\\envs\\machine_learning\\lib\\site-packages (from notebook>=4.4.1->widgetsnbextension~=3.5.0->ipywidgets>=7.5.1->pandas_profiling) (5.6.1)\nRequirement already satisfied: Send2Trash in c:\\users\\pmiguere\\.conda\\envs\\machine_learning\\lib\\site-packages (from notebook>=4.4.1->widgetsnbextension~=3.5.0->ipywidgets>=7.5.1->pandas_profiling) (1.5.0)\nRequirement already satisfied: terminado>=0.8.1 in c:\\users\\pmiguere\\.conda\\envs\\machine_learning\\lib\\site-packages (from notebook>=4.4.1->widgetsnbextension~=3.5.0->ipywidgets>=7.5.1->pandas_profiling) (0.8.3)\nRequirement already satisfied: prometheus-client in c:\\users\\pmiguere\\.conda\\envs\\machine_learning\\lib\\site-packages (from notebook>=4.4.1->widgetsnbextension~=3.5.0->ipywidgets>=7.5.1->pandas_profiling) (0.7.1)\nRequirement already satisfied: defusedxml in c:\\users\\pmiguere\\.conda\\envs\\machine_learning\\lib\\site-packages (from nbconvert->notebook>=4.4.1->widgetsnbextension~=3.5.0->ipywidgets>=7.5.1->pandas_profiling) (0.6.0)\nRequirement already satisfied: entrypoints>=0.2.2 in c:\\users\\pmiguere\\.conda\\envs\\machine_learning\\lib\\site-packages (from nbconvert->notebook>=4.4.1->widgetsnbextension~=3.5.0->ipywidgets>=7.5.1->pandas_profiling) (0.3)\nRequirement already satisfied: mistune<2,>=0.8.1 in c:\\users\\pmiguere\\.conda\\envs\\machine_learning\\lib\\site-packages (from nbconvert->notebook>=4.4.1->widgetsnbextension~=3.5.0->ipywidgets>=7.5.1->pandas_profiling) (0.8.4)\nRequirement already satisfied: testpath in c:\\users\\pmiguere\\.conda\\envs\\machine_learning\\lib\\site-packages (from nbconvert->notebook>=4.4.1->widgetsnbextension~=3.5.0->ipywidgets>=7.5.1->pandas_profiling) (0.4.4)\nRequirement already satisfied: pandocfilters>=1.4.1 in c:\\users\\pmiguere\\.conda\\envs\\machine_learning\\lib\\site-packages (from nbconvert->notebook>=4.4.1->widgetsnbextension~=3.5.0->ipywidgets>=7.5.1->pandas_profiling) (1.4.2)\nRequirement already satisfied: bleach in c:\\users\\pmiguere\\.conda\\envs\\machine_learning\\lib\\site-packages (from nbconvert->notebook>=4.4.1->widgetsnbextension~=3.5.0->ipywidgets>=7.5.1->pandas_profiling) (3.1.4)\nRequirement already satisfied: pywinpty>=0.5; os_name == \"nt\" in c:\\users\\pmiguere\\.conda\\envs\\machine_learning\\lib\\site-packages (from terminado>=0.8.1->notebook>=4.4.1->widgetsnbextension~=3.5.0->ipywidgets>=7.5.1->pandas_profiling) (0.5.7)\nRequirement already satisfied: webencodings in c:\\users\\pmiguere\\.conda\\envs\\machine_learning\\lib\\site-packages (from bleach->nbconvert->notebook>=4.4.1->widgetsnbextension~=3.5.0->ipywidgets>=7.5.1->pandas_profiling) (0.5.1)\n"
     ]
    }
   ],
   "source": [
    "%matplotlib inline\n",
    "import pandas as pd\n",
    "import pandas_profiling\n",
    "from odsclient import get_whole_dataframe"
   ]
  },
  {
   "cell_type": "markdown",
   "metadata": {},
   "source": [
    "# 1. Cirurgias\n",
    "\n",
    "## 1.1 Inscritos em LIC dentro do TMRG\n",
    "\n",
    "**Dataset**: <a href=\"https://transparencia.sns.gov.pt/explore/dataset/inscritos-lic-dentro-tmrg\">Inscritos em LIC dentro do TMRG</a> - Percentagem de inscritos em LIC (Lista de Inscritos em Cirurgia) com tempo de espera inferior ao Tempo Máximo de Resposta Garantida (TMRG)\n",
    "\n",
    "**API**: Dataset recolhido através da <a href=\"https://transparencia.sns.gov.pt/explore/dataset/inscritos-lic-dentro-tmrg/table/?disjunctive.regiao&disjunctive.instituicao&sort=tempo\">API oficial</a> da Área da Transparência do Portal Serviço Nacional de Saúde (SNS)"
   ]
  },
  {
   "cell_type": "code",
   "execution_count": 4,
   "metadata": {},
   "outputs": [
    {
     "output_type": "stream",
     "name": "stderr",
     "text": [
      "https://transparencia.sns.gov.pt/explore/dataset/inscritos-lic-dentro-tmrg/download/: 0.00B [00:01, ?B/s]\n"
     ]
    },
    {
     "output_type": "execute_result",
     "data": {
      "text/plain": [
       "   Período                       Região  \\\n",
       "0  2013-06  Região de Saúde do Alentejo   \n",
       "1  2013-06    Região de Saúde do Centro   \n",
       "2  2013-06          Região de Saúde LVT   \n",
       "3  2013-06          Região de Saúde LVT   \n",
       "4  2013-06        Região de Saúde Norte   \n",
       "\n",
       "                                        Instituição Localização Geográfica  \\\n",
       "0     Unidade Local de Saúde do Baixo Alentejo, EPE   38.014123,-7.8721227   \n",
       "1     Unidade Local de Saúde de Castelo Branco, EPE  39.8212263,-7.4981271   \n",
       "2                          Hospital de Cascais, PPP    38.729006,-9.418267   \n",
       "3               Hospital Distrital de Santarém, EPE  39.2410946,-8.6937515   \n",
       "4  Centro Hospitalar Universitário de São João, EPE  41.1831056,-8.6010558   \n",
       "\n",
       "   Nº Doentes Inscritos dentro do TMRG SIGIC  Nº Doentes Inscritos SIGIC  \\\n",
       "0                                       1109                        1125   \n",
       "1                                       1087                        1211   \n",
       "2                                       2426                        2879   \n",
       "3                                       2815                        3742   \n",
       "4                                       6349                        6461   \n",
       "\n",
       "   % Inscritos em LIC dentro do TMRG  \n",
       "0                               98.6  \n",
       "1                               89.8  \n",
       "2                               84.3  \n",
       "3                               75.2  \n",
       "4                               98.3  "
      ],
      "text/html": "<div>\n<style scoped>\n    .dataframe tbody tr th:only-of-type {\n        vertical-align: middle;\n    }\n\n    .dataframe tbody tr th {\n        vertical-align: top;\n    }\n\n    .dataframe thead th {\n        text-align: right;\n    }\n</style>\n<table border=\"1\" class=\"dataframe\">\n  <thead>\n    <tr style=\"text-align: right;\">\n      <th></th>\n      <th>Período</th>\n      <th>Região</th>\n      <th>Instituição</th>\n      <th>Localização Geográfica</th>\n      <th>Nº Doentes Inscritos dentro do TMRG SIGIC</th>\n      <th>Nº Doentes Inscritos SIGIC</th>\n      <th>% Inscritos em LIC dentro do TMRG</th>\n    </tr>\n  </thead>\n  <tbody>\n    <tr>\n      <th>0</th>\n      <td>2013-06</td>\n      <td>Região de Saúde do Alentejo</td>\n      <td>Unidade Local de Saúde do Baixo Alentejo, EPE</td>\n      <td>38.014123,-7.8721227</td>\n      <td>1109</td>\n      <td>1125</td>\n      <td>98.6</td>\n    </tr>\n    <tr>\n      <th>1</th>\n      <td>2013-06</td>\n      <td>Região de Saúde do Centro</td>\n      <td>Unidade Local de Saúde de Castelo Branco, EPE</td>\n      <td>39.8212263,-7.4981271</td>\n      <td>1087</td>\n      <td>1211</td>\n      <td>89.8</td>\n    </tr>\n    <tr>\n      <th>2</th>\n      <td>2013-06</td>\n      <td>Região de Saúde LVT</td>\n      <td>Hospital de Cascais, PPP</td>\n      <td>38.729006,-9.418267</td>\n      <td>2426</td>\n      <td>2879</td>\n      <td>84.3</td>\n    </tr>\n    <tr>\n      <th>3</th>\n      <td>2013-06</td>\n      <td>Região de Saúde LVT</td>\n      <td>Hospital Distrital de Santarém, EPE</td>\n      <td>39.2410946,-8.6937515</td>\n      <td>2815</td>\n      <td>3742</td>\n      <td>75.2</td>\n    </tr>\n    <tr>\n      <th>4</th>\n      <td>2013-06</td>\n      <td>Região de Saúde Norte</td>\n      <td>Centro Hospitalar Universitário de São João, EPE</td>\n      <td>41.1831056,-8.6010558</td>\n      <td>6349</td>\n      <td>6461</td>\n      <td>98.3</td>\n    </tr>\n  </tbody>\n</table>\n</div>"
     },
     "metadata": {},
     "execution_count": 4
    }
   ],
   "source": [
    "cir_df = get_whole_dataframe(\"inscritos-lic-dentro-tmrg\", base_url=\"https://transparencia.sns.gov.pt/\", tqdm=True)\n",
    "cir_df.head()"
   ]
  },
  {
   "cell_type": "code",
   "execution_count": 5,
   "metadata": {},
   "outputs": [
    {
     "output_type": "execute_result",
     "data": {
      "text/plain": [
       "       Nº Doentes Inscritos dentro do TMRG SIGIC  Nº Doentes Inscritos SIGIC  \\\n",
       "count                                3546.000000                 3546.000000   \n",
       "mean                                 3863.541737                 4681.811055   \n",
       "std                                  2995.642073                 3850.152385   \n",
       "min                                     4.000000                   54.000000   \n",
       "25%                                  1406.000000                 1695.000000   \n",
       "50%                                  3175.500000                 3864.500000   \n",
       "75%                                  5409.750000                 6539.000000   \n",
       "max                                 15438.000000                19865.000000   \n",
       "\n",
       "       % Inscritos em LIC dentro do TMRG  \n",
       "count                        3546.000000  \n",
       "mean                           85.710575  \n",
       "std                            11.053427  \n",
       "min                             3.300000  \n",
       "25%                            79.400000  \n",
       "50%                            87.200000  \n",
       "75%                            94.500000  \n",
       "max                           100.000000  "
      ],
      "text/html": "<div>\n<style scoped>\n    .dataframe tbody tr th:only-of-type {\n        vertical-align: middle;\n    }\n\n    .dataframe tbody tr th {\n        vertical-align: top;\n    }\n\n    .dataframe thead th {\n        text-align: right;\n    }\n</style>\n<table border=\"1\" class=\"dataframe\">\n  <thead>\n    <tr style=\"text-align: right;\">\n      <th></th>\n      <th>Nº Doentes Inscritos dentro do TMRG SIGIC</th>\n      <th>Nº Doentes Inscritos SIGIC</th>\n      <th>% Inscritos em LIC dentro do TMRG</th>\n    </tr>\n  </thead>\n  <tbody>\n    <tr>\n      <th>count</th>\n      <td>3546.000000</td>\n      <td>3546.000000</td>\n      <td>3546.000000</td>\n    </tr>\n    <tr>\n      <th>mean</th>\n      <td>3863.541737</td>\n      <td>4681.811055</td>\n      <td>85.710575</td>\n    </tr>\n    <tr>\n      <th>std</th>\n      <td>2995.642073</td>\n      <td>3850.152385</td>\n      <td>11.053427</td>\n    </tr>\n    <tr>\n      <th>min</th>\n      <td>4.000000</td>\n      <td>54.000000</td>\n      <td>3.300000</td>\n    </tr>\n    <tr>\n      <th>25%</th>\n      <td>1406.000000</td>\n      <td>1695.000000</td>\n      <td>79.400000</td>\n    </tr>\n    <tr>\n      <th>50%</th>\n      <td>3175.500000</td>\n      <td>3864.500000</td>\n      <td>87.200000</td>\n    </tr>\n    <tr>\n      <th>75%</th>\n      <td>5409.750000</td>\n      <td>6539.000000</td>\n      <td>94.500000</td>\n    </tr>\n    <tr>\n      <th>max</th>\n      <td>15438.000000</td>\n      <td>19865.000000</td>\n      <td>100.000000</td>\n    </tr>\n  </tbody>\n</table>\n</div>"
     },
     "metadata": {},
     "execution_count": 5
    }
   ],
   "source": [
    "cir_df.describe()"
   ]
  },
  {
   "cell_type": "code",
   "execution_count": 6,
   "metadata": {},
   "outputs": [
    {
     "output_type": "stream",
     "name": "stderr",
     "text": [
      "variables: 100%|██████████| 7/7 [00:04<00:00,  1.52it/s]\n",
      "correlations [recoded]: 100%|██████████| 6/6 [00:14<00:00,  2.48s/it]\n",
      "interactions [continuous]: 100%|██████████| 9/9 [00:03<00:00,  2.50it/s]\n",
      "table: 100%|██████████| 1/1 [00:00<00:00,  7.94it/s]\n",
      "missing [matrix]: 100%|██████████| 2/2 [00:00<00:00,  2.30it/s]\n",
      "warnings [correlations]: 100%|██████████| 3/3 [00:00<00:00, 124.99it/s]\n",
      "package: 100%|██████████| 1/1 [00:00<00:00, 43.45it/s]\n",
      "build report structure: 100%|██████████| 1/1 [00:07<00:00,  7.64s/it]\n"
     ]
    },
    {
     "output_type": "display_data",
     "data": {
      "text/plain": "Tab(children=(Tab(children=(GridBox(children=(VBox(children=(GridspecLayout(children=(HTML(value='Number of va…",
      "application/vnd.jupyter.widget-view+json": {
       "version_major": 2,
       "version_minor": 0,
       "model_id": "2c7d1380e1ad4481b8b54386f3acb49f"
      }
     },
     "metadata": {}
    },
    {
     "output_type": "display_data",
     "data": {
      "text/plain": "<IPython.core.display.HTML object>",
      "text/html": "Report generated with <a href=\"https://github.com/pandas-profiling/pandas-profiling\">pandas-profiling</a>."
     },
     "metadata": {}
    }
   ],
   "source": [
    "# pandas_profiling.ProfileReport(cir_df, title=\"Report Cirurgias\").to_notebook_iframe()\n",
    "pandas_profiling.ProfileReport(cir_df, title=\"Report Cirurgias\").to_widgets()"
   ]
  },
  {
   "source": [
    "# 2. Mobilidade\n",
    "\n",
    "## 2.1 Relatório de Mobilidade da Comunidade\n",
    "\n",
    "**Dataset**: <a href=\"https://www.google.com/covid19/mobility/\">COVID-19 - Community Mobility Reports</a>\n",
    "\n",
    "**From**: <a href=\"https://www.gstatic.com/covid19/mobility/Global_Mobility_Report.csv\">Dataset</a> recolhido através do <a href=\"https://www.google.com/covid19/mobility/\">website</a> da Google, composto por dados e relatórios sobre a mobilidade global.\n",
    "\n"
   ],
   "cell_type": "markdown",
   "metadata": {}
  },
  {
   "cell_type": "code",
   "execution_count": 7,
   "metadata": {},
   "outputs": [
    {
     "output_type": "stream",
     "name": "stderr",
     "text": [
      "C:\\Users\\pmiguere\\.conda\\envs\\machine_learning\\lib\\site-packages\\IPython\\core\\interactiveshell.py:3062: DtypeWarning: Columns (4,5) have mixed types.Specify dtype option on import or set low_memory=False.\n  has_raised = await self.run_ast_nodes(code_ast.body, cell_name,\n"
     ]
    }
   ],
   "source": [
    "mob_url = \"https://www.gstatic.com/covid19/mobility/Global_Mobility_Report.csv\"\n",
    "mobility_df = pd.read_csv(mob_url)"
   ]
  },
  {
   "cell_type": "code",
   "execution_count": 8,
   "metadata": {},
   "outputs": [
    {
     "output_type": "execute_result",
     "data": {
      "text/plain": [
       "        country_region_code country_region sub_region_1 sub_region_2  \\\n",
       "3216721                  PT       Portugal          NaN          NaN   \n",
       "3216722                  PT       Portugal          NaN          NaN   \n",
       "3216723                  PT       Portugal          NaN          NaN   \n",
       "3216724                  PT       Portugal          NaN          NaN   \n",
       "3216725                  PT       Portugal          NaN          NaN   \n",
       "\n",
       "        metro_area iso_3166_2_code  census_fips_code  \\\n",
       "3216721        NaN             NaN               NaN   \n",
       "3216722        NaN             NaN               NaN   \n",
       "3216723        NaN             NaN               NaN   \n",
       "3216724        NaN             NaN               NaN   \n",
       "3216725        NaN             NaN               NaN   \n",
       "\n",
       "                            place_id        date  \\\n",
       "3216721  ChIJ1SZCvy0kMgsRQfBOHAlLuCo  2020-02-15   \n",
       "3216722  ChIJ1SZCvy0kMgsRQfBOHAlLuCo  2020-02-16   \n",
       "3216723  ChIJ1SZCvy0kMgsRQfBOHAlLuCo  2020-02-17   \n",
       "3216724  ChIJ1SZCvy0kMgsRQfBOHAlLuCo  2020-02-18   \n",
       "3216725  ChIJ1SZCvy0kMgsRQfBOHAlLuCo  2020-02-19   \n",
       "\n",
       "         retail_and_recreation_percent_change_from_baseline  \\\n",
       "3216721                                                4.0    \n",
       "3216722                                               -3.0    \n",
       "3216723                                                0.0    \n",
       "3216724                                                2.0    \n",
       "3216725                                                4.0    \n",
       "\n",
       "         grocery_and_pharmacy_percent_change_from_baseline  \\\n",
       "3216721                                                0.0   \n",
       "3216722                                                2.0   \n",
       "3216723                                                3.0   \n",
       "3216724                                                3.0   \n",
       "3216725                                                3.0   \n",
       "\n",
       "         parks_percent_change_from_baseline  \\\n",
       "3216721                                21.0   \n",
       "3216722                               -14.0   \n",
       "3216723                                 8.0   \n",
       "3216724                                 6.0   \n",
       "3216725                                24.0   \n",
       "\n",
       "         transit_stations_percent_change_from_baseline  \\\n",
       "3216721                                            9.0   \n",
       "3216722                                            3.0   \n",
       "3216723                                            3.0   \n",
       "3216724                                            5.0   \n",
       "3216725                                            8.0   \n",
       "\n",
       "         workplaces_percent_change_from_baseline  \\\n",
       "3216721                                      1.0   \n",
       "3216722                                      1.0   \n",
       "3216723                                      3.0   \n",
       "3216724                                      3.0   \n",
       "3216725                                      3.0   \n",
       "\n",
       "         residential_percent_change_from_baseline  \n",
       "3216721                                      -1.0  \n",
       "3216722                                       0.0  \n",
       "3216723                                       0.0  \n",
       "3216724                                       0.0  \n",
       "3216725                                      -1.0  "
      ],
      "text/html": "<div>\n<style scoped>\n    .dataframe tbody tr th:only-of-type {\n        vertical-align: middle;\n    }\n\n    .dataframe tbody tr th {\n        vertical-align: top;\n    }\n\n    .dataframe thead th {\n        text-align: right;\n    }\n</style>\n<table border=\"1\" class=\"dataframe\">\n  <thead>\n    <tr style=\"text-align: right;\">\n      <th></th>\n      <th>country_region_code</th>\n      <th>country_region</th>\n      <th>sub_region_1</th>\n      <th>sub_region_2</th>\n      <th>metro_area</th>\n      <th>iso_3166_2_code</th>\n      <th>census_fips_code</th>\n      <th>place_id</th>\n      <th>date</th>\n      <th>retail_and_recreation_percent_change_from_baseline</th>\n      <th>grocery_and_pharmacy_percent_change_from_baseline</th>\n      <th>parks_percent_change_from_baseline</th>\n      <th>transit_stations_percent_change_from_baseline</th>\n      <th>workplaces_percent_change_from_baseline</th>\n      <th>residential_percent_change_from_baseline</th>\n    </tr>\n  </thead>\n  <tbody>\n    <tr>\n      <th>3216721</th>\n      <td>PT</td>\n      <td>Portugal</td>\n      <td>NaN</td>\n      <td>NaN</td>\n      <td>NaN</td>\n      <td>NaN</td>\n      <td>NaN</td>\n      <td>ChIJ1SZCvy0kMgsRQfBOHAlLuCo</td>\n      <td>2020-02-15</td>\n      <td>4.0</td>\n      <td>0.0</td>\n      <td>21.0</td>\n      <td>9.0</td>\n      <td>1.0</td>\n      <td>-1.0</td>\n    </tr>\n    <tr>\n      <th>3216722</th>\n      <td>PT</td>\n      <td>Portugal</td>\n      <td>NaN</td>\n      <td>NaN</td>\n      <td>NaN</td>\n      <td>NaN</td>\n      <td>NaN</td>\n      <td>ChIJ1SZCvy0kMgsRQfBOHAlLuCo</td>\n      <td>2020-02-16</td>\n      <td>-3.0</td>\n      <td>2.0</td>\n      <td>-14.0</td>\n      <td>3.0</td>\n      <td>1.0</td>\n      <td>0.0</td>\n    </tr>\n    <tr>\n      <th>3216723</th>\n      <td>PT</td>\n      <td>Portugal</td>\n      <td>NaN</td>\n      <td>NaN</td>\n      <td>NaN</td>\n      <td>NaN</td>\n      <td>NaN</td>\n      <td>ChIJ1SZCvy0kMgsRQfBOHAlLuCo</td>\n      <td>2020-02-17</td>\n      <td>0.0</td>\n      <td>3.0</td>\n      <td>8.0</td>\n      <td>3.0</td>\n      <td>3.0</td>\n      <td>0.0</td>\n    </tr>\n    <tr>\n      <th>3216724</th>\n      <td>PT</td>\n      <td>Portugal</td>\n      <td>NaN</td>\n      <td>NaN</td>\n      <td>NaN</td>\n      <td>NaN</td>\n      <td>NaN</td>\n      <td>ChIJ1SZCvy0kMgsRQfBOHAlLuCo</td>\n      <td>2020-02-18</td>\n      <td>2.0</td>\n      <td>3.0</td>\n      <td>6.0</td>\n      <td>5.0</td>\n      <td>3.0</td>\n      <td>0.0</td>\n    </tr>\n    <tr>\n      <th>3216725</th>\n      <td>PT</td>\n      <td>Portugal</td>\n      <td>NaN</td>\n      <td>NaN</td>\n      <td>NaN</td>\n      <td>NaN</td>\n      <td>NaN</td>\n      <td>ChIJ1SZCvy0kMgsRQfBOHAlLuCo</td>\n      <td>2020-02-19</td>\n      <td>4.0</td>\n      <td>3.0</td>\n      <td>24.0</td>\n      <td>8.0</td>\n      <td>3.0</td>\n      <td>-1.0</td>\n    </tr>\n  </tbody>\n</table>\n</div>"
     },
     "metadata": {},
     "execution_count": 8
    }
   ],
   "source": [
    "mob_df = mobility_df.loc[mobility_df[\"country_region_code\"] == \"PT\"].copy()\n",
    "mob_df.head()"
   ]
  },
  {
   "cell_type": "code",
   "execution_count": 9,
   "metadata": {},
   "outputs": [
    {
     "output_type": "execute_result",
     "data": {
      "text/plain": [
       "       census_fips_code  retail_and_recreation_percent_change_from_baseline  \\\n",
       "count               0.0                                       46915.000000    \n",
       "mean                NaN                                         -32.884706    \n",
       "std                 NaN                                          28.938904    \n",
       "min                 NaN                                         -98.000000    \n",
       "25%                 NaN                                         -58.000000    \n",
       "50%                 NaN                                         -29.000000    \n",
       "75%                 NaN                                         -11.000000    \n",
       "max                 NaN                                         139.000000    \n",
       "\n",
       "       grocery_and_pharmacy_percent_change_from_baseline  \\\n",
       "count                                       45191.000000   \n",
       "mean                                           -6.617800   \n",
       "std                                            24.474472   \n",
       "min                                           -96.000000   \n",
       "25%                                           -21.000000   \n",
       "50%                                            -5.000000   \n",
       "75%                                             8.000000   \n",
       "max                                           138.000000   \n",
       "\n",
       "       parks_percent_change_from_baseline  \\\n",
       "count                        34811.000000   \n",
       "mean                            -7.507024   \n",
       "std                             59.753648   \n",
       "min                           -100.000000   \n",
       "25%                            -48.000000   \n",
       "50%                            -19.000000   \n",
       "75%                             16.000000   \n",
       "max                            598.000000   \n",
       "\n",
       "       transit_stations_percent_change_from_baseline  \\\n",
       "count                                   28234.000000   \n",
       "mean                                      -36.086421   \n",
       "std                                        26.375488   \n",
       "min                                      -100.000000   \n",
       "25%                                       -56.000000   \n",
       "50%                                       -38.000000   \n",
       "75%                                       -21.000000   \n",
       "max                                       168.000000   \n",
       "\n",
       "       workplaces_percent_change_from_baseline  \\\n",
       "count                             75266.000000   \n",
       "mean                                -27.702761   \n",
       "std                                  19.813448   \n",
       "min                                -100.000000   \n",
       "25%                                 -41.000000   \n",
       "50%                                 -27.000000   \n",
       "75%                                 -12.000000   \n",
       "max                                  49.000000   \n",
       "\n",
       "       residential_percent_change_from_baseline  \n",
       "count                              41078.000000  \n",
       "mean                                  13.321048  \n",
       "std                                    8.837077  \n",
       "min                                   -5.000000  \n",
       "25%                                    7.000000  \n",
       "50%                                   12.000000  \n",
       "75%                                   19.000000  \n",
       "max                                   54.000000  "
      ],
      "text/html": "<div>\n<style scoped>\n    .dataframe tbody tr th:only-of-type {\n        vertical-align: middle;\n    }\n\n    .dataframe tbody tr th {\n        vertical-align: top;\n    }\n\n    .dataframe thead th {\n        text-align: right;\n    }\n</style>\n<table border=\"1\" class=\"dataframe\">\n  <thead>\n    <tr style=\"text-align: right;\">\n      <th></th>\n      <th>census_fips_code</th>\n      <th>retail_and_recreation_percent_change_from_baseline</th>\n      <th>grocery_and_pharmacy_percent_change_from_baseline</th>\n      <th>parks_percent_change_from_baseline</th>\n      <th>transit_stations_percent_change_from_baseline</th>\n      <th>workplaces_percent_change_from_baseline</th>\n      <th>residential_percent_change_from_baseline</th>\n    </tr>\n  </thead>\n  <tbody>\n    <tr>\n      <th>count</th>\n      <td>0.0</td>\n      <td>46915.000000</td>\n      <td>45191.000000</td>\n      <td>34811.000000</td>\n      <td>28234.000000</td>\n      <td>75266.000000</td>\n      <td>41078.000000</td>\n    </tr>\n    <tr>\n      <th>mean</th>\n      <td>NaN</td>\n      <td>-32.884706</td>\n      <td>-6.617800</td>\n      <td>-7.507024</td>\n      <td>-36.086421</td>\n      <td>-27.702761</td>\n      <td>13.321048</td>\n    </tr>\n    <tr>\n      <th>std</th>\n      <td>NaN</td>\n      <td>28.938904</td>\n      <td>24.474472</td>\n      <td>59.753648</td>\n      <td>26.375488</td>\n      <td>19.813448</td>\n      <td>8.837077</td>\n    </tr>\n    <tr>\n      <th>min</th>\n      <td>NaN</td>\n      <td>-98.000000</td>\n      <td>-96.000000</td>\n      <td>-100.000000</td>\n      <td>-100.000000</td>\n      <td>-100.000000</td>\n      <td>-5.000000</td>\n    </tr>\n    <tr>\n      <th>25%</th>\n      <td>NaN</td>\n      <td>-58.000000</td>\n      <td>-21.000000</td>\n      <td>-48.000000</td>\n      <td>-56.000000</td>\n      <td>-41.000000</td>\n      <td>7.000000</td>\n    </tr>\n    <tr>\n      <th>50%</th>\n      <td>NaN</td>\n      <td>-29.000000</td>\n      <td>-5.000000</td>\n      <td>-19.000000</td>\n      <td>-38.000000</td>\n      <td>-27.000000</td>\n      <td>12.000000</td>\n    </tr>\n    <tr>\n      <th>75%</th>\n      <td>NaN</td>\n      <td>-11.000000</td>\n      <td>8.000000</td>\n      <td>16.000000</td>\n      <td>-21.000000</td>\n      <td>-12.000000</td>\n      <td>19.000000</td>\n    </tr>\n    <tr>\n      <th>max</th>\n      <td>NaN</td>\n      <td>139.000000</td>\n      <td>138.000000</td>\n      <td>598.000000</td>\n      <td>168.000000</td>\n      <td>49.000000</td>\n      <td>54.000000</td>\n    </tr>\n  </tbody>\n</table>\n</div>"
     },
     "metadata": {},
     "execution_count": 9
    }
   ],
   "source": [
    "mob_df.describe()"
   ]
  },
  {
   "cell_type": "code",
   "execution_count": 10,
   "metadata": {},
   "outputs": [
    {
     "output_type": "stream",
     "name": "stderr",
     "text": [
      "variables: 100%|██████████| 16/16 [05:50<00:00, 21.88s/it]\n",
      "correlations [recoded]: 100%|██████████| 6/6 [00:17<00:00,  2.90s/it]\n",
      "interactions [continuous]: 100%|██████████| 49/49 [00:22<00:00,  2.18it/s]\n",
      "table: 100%|██████████| 1/1 [00:02<00:00,  2.89s/it]\n",
      "missing [dendrogram]: 100%|██████████| 4/4 [00:05<00:00,  1.31s/it]\n",
      "warnings [correlations]: 100%|██████████| 3/3 [00:00<00:00, 200.24it/s]\n",
      "package: 100%|██████████| 1/1 [00:00<00:00, 34.39it/s]\n",
      "build report structure: 100%|██████████| 1/1 [00:13<00:00, 13.56s/it]\n"
     ]
    },
    {
     "output_type": "display_data",
     "data": {
      "text/plain": "Tab(children=(Tab(children=(GridBox(children=(VBox(children=(GridspecLayout(children=(HTML(value='Number of va…",
      "application/vnd.jupyter.widget-view+json": {
       "version_major": 2,
       "version_minor": 0,
       "model_id": "4dc86491099c44c5a9a9b22488331136"
      }
     },
     "metadata": {}
    },
    {
     "output_type": "display_data",
     "data": {
      "text/plain": "<IPython.core.display.HTML object>",
      "text/html": "Report generated with <a href=\"https://github.com/pandas-profiling/pandas-profiling\">pandas-profiling</a>."
     },
     "metadata": {}
    }
   ],
   "source": [
    "pandas_profiling.ProfileReport(mob_df, title=\"Report Mobility\").to_widgets()"
   ]
  }
 ],
 "metadata": {
  "kernelspec": {
   "name": "python382jvsc74a57bd0d94d57dea21545d3003b660d8890a58bd27639c259afad2a4947c178f07b33b7",
   "display_name": "Python 3.8.2 64-bit ('machine_learning': conda)"
  },
  "language_info": {
   "codemirror_mode": {
    "name": "ipython",
    "version": 3
   },
   "file_extension": ".py",
   "mimetype": "text/x-python",
   "name": "python",
   "nbconvert_exporter": "python",
   "pygments_lexer": "ipython3",
   "version": "3.8.2-final"
  }
 },
 "nbformat": 4,
 "nbformat_minor": 4
}