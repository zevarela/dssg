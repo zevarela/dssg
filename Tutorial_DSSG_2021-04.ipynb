{
 "cells": [
  {
   "cell_type": "markdown",
   "metadata": {},
   "source": [
    "# Tutorial\n",
    "\n",
    "Demonstração da utilizadade da API disponibilizada pela Área da Transparência do Portal do Serviço Nacional de Saúde.\n",
    "\n",
    "O objectivo deste notebook é:\n",
    "\n",
    "* Mostrar como obter dados utilizando a API disponibilizada pela Área da Transparência do Portal do Serviço Nacional de Saúde;\n",
    "* Ilustrar o processo de limpeza e visualização destes dados;\n",
    "* Explorar o impacto do  COVID-19 na sociedade em geral e em particular na prestação de cuidados de saúde em Portugal com questões como:\n",
    "    * Como foi afectada a prestação de cuidados de oncologia?\n",
    "    * Como foram afectadas as cirugias? \n",
    "    * Que impacto teve na mortalidade total em comparação com outros anos?\n",
    "    * ...\n"
   ]
  },
  {
   "cell_type": "code",
   "execution_count": null,
   "metadata": {},
   "outputs": [],
   "source": []
  }
 ],
 "metadata": {
  "kernelspec": {
   "display_name": "Python 3",
   "language": "python",
   "name": "python3"
  },
  "language_info": {
   "codemirror_mode": {
    "name": "ipython",
    "version": 3
   },
   "file_extension": ".py",
   "mimetype": "text/x-python",
   "name": "python",
   "nbconvert_exporter": "python",
   "pygments_lexer": "ipython3",
   "version": "3.7.3"
  }
 },
 "nbformat": 4,
 "nbformat_minor": 4
}
